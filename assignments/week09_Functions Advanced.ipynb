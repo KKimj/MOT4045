{
 "cells": [
  {
   "cell_type": "markdown",
   "metadata": {},
   "source": [
    "# Comprehension\n",
    "\n",
    "## List comprehension\n",
    "`[f(xs) for xs in iter]`\n",
    "`[f(xs) for xs in iter if pred(xs) ]`\n",
    "\n",
    "## Dictionary comprehension\n",
    "`{key_func(vars):val_func(vars) for vars in iterable}`\n",
    "\n",
    "## Set comprehension\n",
    "`{func(vars) for vars in iterable}`"
   ]
  },
  {
   "cell_type": "code",
   "execution_count": 24,
   "metadata": {},
   "outputs": [
    {
     "name": "stdout",
     "output_type": "stream",
     "text": [
      "[10, 8, 6, 4, 2, 0, 2, 4, 6, 8]\n",
      "[10, 8, 6, 4, 2]\n"
     ]
    }
   ],
   "source": [
    "# List comprehension\n",
    "list1 = [abs(n) for n in range(-10, 10, 2)]\n",
    "print(list1)\n",
    "\n",
    "list2 = [abs(n) for n in range(-10, 10, 2) if n < 0]\n",
    "print(list2)\n"
   ]
  },
  {
   "cell_type": "code",
   "execution_count": 1,
   "metadata": {},
   "outputs": [
    {
     "name": "stdout",
     "output_type": "stream",
     "text": [
      "[1, 2, 3, 4, 5]\n",
      "[1, 2, 3, 4, 5]\n",
      "[1, 2, 3, 4, 5]\n"
     ]
    }
   ],
   "source": [
    "number_list = []\n",
    "number_list.append(1)\n",
    "number_list.append(2)\n",
    "number_list.append(3)\n",
    "number_list.append(4)\n",
    "number_list.append(5)\n",
    "\n",
    "print(number_list)\n",
    "\n",
    "number_list = list(range(1,6))\n",
    "print(number_list)\n",
    "\n",
    "number_list = [number for number in range(1,6)]\n",
    "print(number_list)"
   ]
  },
  {
   "cell_type": "code",
   "execution_count": 2,
   "metadata": {},
   "outputs": [
    {
     "name": "stdout",
     "output_type": "stream",
     "text": [
      "[1, 3, 5]\n",
      "[1, 3, 5]\n"
     ]
    }
   ],
   "source": [
    "a_list = [number for number in range(1,6) if number % 2 ==1]\n",
    "print(a_list)\n",
    "\n",
    "a_list = []\n",
    "for number in range(1,6):\n",
    "    if number % 2 == 1:\n",
    "        a_list.append(number)\n",
    "print(a_list)"
   ]
  },
  {
   "cell_type": "code",
   "execution_count": 3,
   "metadata": {},
   "outputs": [
    {
     "name": "stdout",
     "output_type": "stream",
     "text": [
      "['i', 'love', 'python', 'soooooo', 'much!!!']\n",
      "['SOOOOOO', 'MUCH!!!']\n"
     ]
    }
   ],
   "source": [
    "sentence = ['I', 'Love', 'Python', 'Soooooo', 'MUCH!!!']\n",
    "\n",
    "words = [word.lower() for word in sentence]\n",
    "print(words)\n",
    "\n",
    "words = [word.upper() for word in sentence if len(word) > 6]\n",
    "print(words)"
   ]
  },
  {
   "cell_type": "code",
   "execution_count": 4,
   "metadata": {},
   "outputs": [
    {
     "name": "stdout",
     "output_type": "stream",
     "text": [
      "[(0, 0, 0), (1, 1, 1), (2, 4, 8), (3, 9, 27), (4, 16, 64), (5, 25, 125), (6, 36, 216), (7, 49, 343), (8, 64, 512), (9, 81, 729)]\n"
     ]
    }
   ],
   "source": [
    "nums = [(x,x**2,x**3) for x in range(10)]\n",
    "print(nums)"
   ]
  },
  {
   "cell_type": "code",
   "execution_count": 5,
   "metadata": {},
   "outputs": [
    {
     "name": "stdout",
     "output_type": "stream",
     "text": [
      "1 1\n",
      "1 2\n",
      "2 1\n",
      "2 2\n",
      "3 1\n",
      "3 2\n"
     ]
    }
   ],
   "source": [
    "rows = range(1,4)\n",
    "cols = range(1,3)\n",
    "for row in rows:\n",
    "    for col in cols:\n",
    "        print(row, col)"
   ]
  },
  {
   "cell_type": "code",
   "execution_count": 6,
   "metadata": {},
   "outputs": [
    {
     "name": "stdout",
     "output_type": "stream",
     "text": [
      "(1, 1)\n",
      "(1, 2)\n",
      "(2, 1)\n",
      "(2, 2)\n",
      "(3, 1)\n",
      "(3, 2)\n"
     ]
    }
   ],
   "source": [
    "rows = range(1,4)\n",
    "cols = range(1,3)\n",
    "cells = [(row,col) for row in rows for col in cols]\n",
    "for cell in cells:\n",
    "    print(cell)"
   ]
  },
  {
   "cell_type": "code",
   "execution_count": 7,
   "metadata": {},
   "outputs": [
    {
     "name": "stdout",
     "output_type": "stream",
     "text": [
      "{'l': 1, 'e': 2, 't': 2, 'r': 1, 's': 1}\n"
     ]
    }
   ],
   "source": [
    "# Dictionary comprehension\n",
    "word = 'letters'\n",
    "letter_counts = {letter:word.count(letter) for letter in word}\n",
    "print(letter_counts)"
   ]
  },
  {
   "cell_type": "code",
   "execution_count": 8,
   "metadata": {},
   "outputs": [
    {
     "name": "stdout",
     "output_type": "stream",
     "text": [
      "{'r': 1, 'e': 2, 't': 2, 'l': 1, 's': 1}\n"
     ]
    }
   ],
   "source": [
    "word = 'letters'\n",
    "letter_counts = {letter:word.count(letter) for letter in set(word)}\n",
    "print(letter_counts)"
   ]
  },
  {
   "cell_type": "code",
   "execution_count": 9,
   "metadata": {},
   "outputs": [
    {
     "name": "stdout",
     "output_type": "stream",
     "text": [
      "{'r', 'e', 't', 'l', 's'}\n"
     ]
    }
   ],
   "source": [
    "## Set comprehension\n",
    "set = set(word)\n",
    "print(set)"
   ]
  },
  {
   "cell_type": "code",
   "execution_count": null,
   "metadata": {},
   "outputs": [],
   "source": [
    "## Set comprehension\n",
    "a_set = {number for number in range(1,6) if number % 3 ==1}\n",
    "print(a_set)"
   ]
  },
  {
   "cell_type": "markdown",
   "metadata": {},
   "source": [
    "# Functions and code structure"
   ]
  },
  {
   "cell_type": "code",
   "execution_count": 10,
   "metadata": {},
   "outputs": [
    {
     "name": "stdout",
     "output_type": "stream",
     "text": [
      "3\n",
      "4.4\n",
      "lovepython\n"
     ]
    }
   ],
   "source": [
    "def sum(a, b) :\n",
    "      return a + b\n",
    "\n",
    "print(sum(1, 2))\n",
    "print(sum(1.3, 3.1))\n",
    "print(sum('love', 'python'))\n"
   ]
  },
  {
   "cell_type": "code",
   "execution_count": 15,
   "metadata": {},
   "outputs": [
    {
     "name": "stdout",
     "output_type": "stream",
     "text": [
      "Monday : drink coffee - eat banana - enjoy tiramisu\n",
      "Tuesday : drink tea - eat orange - enjoy ice cream\n",
      "Wednesday : drink beer - eat peach - enjoy pie\n"
     ]
    }
   ],
   "source": [
    "days = ['Monday', 'Tuesday', 'Wednesday']\n",
    "fruits = ['banana', 'orange', 'peach']\n",
    "drinks = ['coffee', 'tea', 'beer']\n",
    "desserts = ['tiramisu', 'ice cream', 'pie', 'pudding']\n",
    "\n",
    "for day, fruit, drink, dessert in zip(days, fruits, drinks, desserts):\n",
    "    print(day, \": drink\", drink, \"- eat\", fruit, \"- enjoy\", dessert)"
   ]
  },
  {
   "cell_type": "code",
   "execution_count": 16,
   "metadata": {},
   "outputs": [
    {
     "name": "stdout",
     "output_type": "stream",
     "text": [
      "[('Monday', 'Lundi'), ('Tuesday', 'Mardi'), ('Wednesday', 'Mercredi')]\n",
      "{'Monday': 'Lundi', 'Tuesday': 'Mardi', 'Wednesday': 'Mercredi'}\n"
     ]
    }
   ],
   "source": [
    "english = 'Monday', 'Tuesday', 'Wednesday'\n",
    "\n",
    "french = 'Lundi', 'Mardi', 'Mercredi'\n",
    "\n",
    "translate_list = list(zip(english, french))\n",
    "print(translate_list)\n",
    "\n",
    "translate_dict = dict(zip(english,french))\n",
    "print(translate_dict)\n"
   ]
  },
  {
   "cell_type": "code",
   "execution_count": 17,
   "metadata": {},
   "outputs": [
    {
     "name": "stdout",
     "output_type": "stream",
     "text": [
      "{'price': 100, 'wine': 'chardonnay', 'entree': 'chicken', 'dessert': 'pudding'}\n",
      "{'price': 100, 'wine': 'chardonnay', 'entree': 'chicken', 'dessert': 'pudding'}\n",
      "{'price': 120, 'wine': 'chardonnay', 'entree': 'beef', 'dessert': 'pudding'}\n",
      "{'price': 110, 'wine': 'chardonnay', 'entree': 'chicken', 'dessert': 'bager'}\n",
      "{'price': 'eighty', 'wine': 'saint-pierre', 'entree': 'fish', 'dessert': 'pudding'}\n",
      "{'price': 'hundred', 'wine': 'saint-pierre', 'entree': 'chicken', 'dessert': 'pudding'}\n"
     ]
    }
   ],
   "source": [
    "def menu(price, wine='chardonnay', entree='chicken', dessert = 'pudding'):\n",
    "    return{'price': price, 'wine': wine, 'entree': entree, 'dessert': dessert}\n",
    "\n",
    "\n",
    "print(menu(100))\n",
    "print(menu(price=100))\n",
    "print(menu(price=120, entree='beef'))\n",
    "print(menu(dessert='bagel', price=110))\n",
    "print(menu('eighty', 'saint-pierre', 'fish'))\n",
    "print(menu('hundred', wine= 'saint-pierre'))"
   ]
  },
  {
   "cell_type": "code",
   "execution_count": 18,
   "metadata": {},
   "outputs": [
    {
     "ename": "TypeError",
     "evalue": "menu() missing 1 required positional argument: 'price'",
     "output_type": "error",
     "traceback": [
      "\u001b[0;31m---------------------------------------------------------------------------\u001b[0m",
      "\u001b[0;31mTypeError\u001b[0m                                 Traceback (most recent call last)",
      "\u001b[1;32m/Users/kkimj/MOT4045/assignments/week09_Functions Advanced.ipynb Cell 18\u001b[0m line \u001b[0;36m1\n\u001b[0;32m----> <a href='vscode-notebook-cell:/Users/kkimj/MOT4045/assignments/week09_Functions%20Advanced.ipynb#X25sZmlsZQ%3D%3D?line=0'>1</a>\u001b[0m menu()\n",
      "\u001b[0;31mTypeError\u001b[0m: menu() missing 1 required positional argument: 'price'"
     ]
    }
   ],
   "source": [
    "menu()"
   ]
  },
  {
   "cell_type": "code",
   "execution_count": 19,
   "metadata": {},
   "outputs": [
    {
     "ename": "TypeError",
     "evalue": "menu() got multiple values for argument 'price'",
     "output_type": "error",
     "traceback": [
      "\u001b[0;31m---------------------------------------------------------------------------\u001b[0m",
      "\u001b[0;31mTypeError\u001b[0m                                 Traceback (most recent call last)",
      "\u001b[1;32m/Users/kkimj/MOT4045/assignments/week09_Functions Advanced.ipynb Cell 19\u001b[0m line \u001b[0;36m1\n\u001b[0;32m----> <a href='vscode-notebook-cell:/Users/kkimj/MOT4045/assignments/week09_Functions%20Advanced.ipynb#X30sZmlsZQ%3D%3D?line=0'>1</a>\u001b[0m menu(\u001b[39m100\u001b[39;49m, price \u001b[39m=\u001b[39;49m \u001b[39m120\u001b[39;49m)\n",
      "\u001b[0;31mTypeError\u001b[0m: menu() got multiple values for argument 'price'"
     ]
    }
   ],
   "source": [
    "menu(100, price = 120)"
   ]
  },
  {
   "cell_type": "markdown",
   "metadata": {},
   "source": [
    "# Docstring"
   ]
  },
  {
   "cell_type": "code",
   "execution_count": 22,
   "metadata": {},
   "outputs": [
    {
     "name": "stdout",
     "output_type": "stream",
     "text": [
      "echo returns its input argument\n"
     ]
    }
   ],
   "source": [
    "def echo(anything):\n",
    "    'echo returns its input argument'\n",
    "    return anything\n",
    "\n",
    "def print_if_true(thing, check):\n",
    "    \"\"\"Print the first argument if a second argument is true.\n",
    "    The operation is:\n",
    "     1. Check whether the *second* argument is true.\n",
    "     2. If it is, print the *first* argument.\n",
    "    \"\"\"\n",
    "    if check:\n",
    "        print(thing)\n",
    "\n",
    "print(echo.__doc__)"
   ]
  }
 ],
 "metadata": {
  "kernelspec": {
   "display_name": "Python 3",
   "language": "python",
   "name": "python3"
  },
  "language_info": {
   "codemirror_mode": {
    "name": "ipython",
    "version": 3
   },
   "file_extension": ".py",
   "mimetype": "text/x-python",
   "name": "python",
   "nbconvert_exporter": "python",
   "pygments_lexer": "ipython3",
   "version": "3.9.6"
  }
 },
 "nbformat": 4,
 "nbformat_minor": 2
}
