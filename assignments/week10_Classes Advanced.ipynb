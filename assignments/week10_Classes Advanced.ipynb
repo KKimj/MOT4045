{
    "cells": [
        {
            "cell_type": "markdown",
            "metadata": {},
            "source": [
                "# Class"
            ]
        },
        {
            "cell_type": "code",
            "execution_count": 31,
            "metadata": {},
            "outputs": [
                {
                    "name": "stdout",
                    "output_type": "stream",
                    "text": [
                        "3\n",
                        "7\n"
                    ]
                }
            ],
            "source": [
                "result = 0\n",
                "\n",
                "def adder(num):\n",
                "    global result\n",
                "    result += num\n",
                "    return result\n",
                "\n",
                "print(adder(3))\n",
                "print(adder(4))"
            ]
        },
        {
            "cell_type": "code",
            "execution_count": 32,
            "metadata": {},
            "outputs": [
                {
                    "name": "stdout",
                    "output_type": "stream",
                    "text": [
                        "3\n",
                        "7\n",
                        "4\n",
                        "7\n"
                    ]
                }
            ],
            "source": [
                "result1 = 0\n",
                "result2 = 0\n",
                "\n",
                "def adder1(num):\n",
                "    global result1\n",
                "    result1 += num\n",
                "    return result1\n",
                "\n",
                "def adder2(num):\n",
                "    global result2\n",
                "    result2 += num\n",
                "    return result2\n",
                "\n",
                "print(adder1(3))\n",
                "print(adder1(4))\n",
                "print(adder2(4))\n",
                "print(adder2(3))"
            ]
        },
        {
            "cell_type": "code",
            "execution_count": 33,
            "metadata": {},
            "outputs": [
                {
                    "name": "stdout",
                    "output_type": "stream",
                    "text": [
                        "3\n",
                        "7\n",
                        "3\n",
                        "10\n"
                    ]
                }
            ],
            "source": [
                "class Calculator:\n",
                "    def __init__(self):\n",
                "        self.result = 0\n",
                "    def adder(self, num):\n",
                "        self.result += num\n",
                "        return self.result\n",
                "\n",
                "cal1 = Calculator()\n",
                "cal2 = Calculator()\n",
                "\n",
                "print(cal1.adder(3))\n",
                "print(cal1.adder(4))\n",
                "print(cal2.adder(3))\n",
                "print(cal2.adder(7))"
            ]
        },
        {
            "cell_type": "code",
            "execution_count": 34,
            "metadata": {},
            "outputs": [
                {
                    "name": "stdout",
                    "output_type": "stream",
                    "text": [
                        "127\n"
                    ]
                }
            ],
            "source": [
                "print(cal1.adder(120))"
            ]
        },
        {
            "cell_type": "code",
            "execution_count": 35,
            "metadata": {},
            "outputs": [],
            "source": [
                "class Calculator:\n",
                "    def __init__(self):\n",
                "        self.result = 0\n",
                "    def adder(self, num):\n",
                "        self.result += num\n",
                "        return self.result\n",
                "    def reset(self):\n",
                "        self.result = 0\n",
                "        return self.result"
            ]
        },
        {
            "cell_type": "code",
            "execution_count": 36,
            "metadata": {},
            "outputs": [
                {
                    "name": "stdout",
                    "output_type": "stream",
                    "text": [
                        "10\n",
                        "0\n"
                    ]
                }
            ],
            "source": [
                "cal3 = Calculator()\n",
                "print(cal3.adder(10))\n",
                "print(cal3.reset())"
            ]
        },
        {
            "cell_type": "code",
            "execution_count": 37,
            "metadata": {},
            "outputs": [],
            "source": [
                "# Class variables"
            ]
        },
        {
            "cell_type": "code",
            "execution_count": 38,
            "metadata": {},
            "outputs": [
                {
                    "data": {
                        "text/plain": [
                            "'secret'"
                        ]
                    },
                    "execution_count": 38,
                    "metadata": {},
                    "output_type": "execute_result"
                }
            ],
            "source": [
                "class Service:\n",
                "    secret = \"secret\"\n",
                "\n",
                "s = Service()\n",
                "\n",
                "s.secret"
            ]
        },
        {
            "cell_type": "code",
            "execution_count": 39,
            "metadata": {},
            "outputs": [
                {
                    "data": {
                        "text/plain": [
                            "'secret'"
                        ]
                    },
                    "execution_count": 39,
                    "metadata": {},
                    "output_type": "execute_result"
                }
            ],
            "source": [
                "s2 = Service()\n",
                "s2.secret"
            ]
        },
        {
            "cell_type": "code",
            "execution_count": 40,
            "metadata": {},
            "outputs": [
                {
                    "data": {
                        "text/plain": [
                            "'secret'"
                        ]
                    },
                    "execution_count": 40,
                    "metadata": {},
                    "output_type": "execute_result"
                }
            ],
            "source": [
                "Service.secret"
            ]
        },
        {
            "cell_type": "code",
            "execution_count": 41,
            "metadata": {},
            "outputs": [
                {
                    "ename": "AttributeError",
                    "evalue": "type object 'Calculator' has no attribute 'result'",
                    "output_type": "error",
                    "traceback": [
                        "\u001b[0;31m---------------------------------------------------------------------------\u001b[0m",
                        "\u001b[0;31mAttributeError\u001b[0m                            Traceback (most recent call last)",
                        "\u001b[1;32m/Users/kkimj/MOT4045/assignments/week10_Classes Advanced.ipynb Cell 12\u001b[0m line \u001b[0;36m1\n\u001b[0;32m----> <a href='vscode-notebook-cell:/Users/kkimj/MOT4045/assignments/week10_Classes%20Advanced.ipynb#X15sZmlsZQ%3D%3D?line=0'>1</a>\u001b[0m Calculator\u001b[39m.\u001b[39;49mresult\n",
                        "\u001b[0;31mAttributeError\u001b[0m: type object 'Calculator' has no attribute 'result'"
                    ]
                }
            ],
            "source": [
                "Calculator.result"
            ]
        },
        {
            "cell_type": "code",
            "execution_count": null,
            "metadata": {},
            "outputs": [
                {
                    "name": "stdout",
                    "output_type": "stream",
                    "text": [
                        "1 + 1 = 2이다.\n"
                    ]
                }
            ],
            "source": [
                "class Service:\n",
                "    secret = \"지구는 4006년에 멸망한다.\"\n",
                "    def sum(self, a, b):\n",
                "        result = a + b\n",
                "        print(\"%s + %s = %s이다.\" %(a, b, result)) # 숫자인데왜 %s (string)인가?\n",
                "\n",
                "an = Service()\n",
                "\n",
                "an.sum(1,1)"
            ]
        },
        {
            "cell_type": "code",
            "execution_count": null,
            "metadata": {},
            "outputs": [
                {
                    "name": "stdout",
                    "output_type": "stream",
                    "text": [
                        "2 + 3 = 5이다.\n"
                    ]
                }
            ],
            "source": [
                "class Service2:\n",
                "    secret = \"지구는 4006년에 멸망한다.\"\n",
                "    def sum(self, a, b):\n",
                "        result = a + b\n",
                "        print(\"%d + %d = %d이다.\" %(a, b, result)) # %d 도 되네 ㅎ\n",
                "\n",
                "am = Service2()\n",
                "\n",
                "am.sum(2,3)"
            ]
        },
        {
            "cell_type": "code",
            "execution_count": null,
            "metadata": {},
            "outputs": [],
            "source": [
                "class Service:\n",
                "    secret = \"지구는 4006년에 멸망한다.\"\n",
                "    def setname(self, name):\n",
                "        self.name = name\n",
                "    def sum(self, a, b):\n",
                "        result = a + b\n",
                "        print(\"%s님, %s + %s = %s입니다.\" %(self.name, a, b, result))\n",
                "\n",
                "an = Service()\n",
                "an.setname(\"박달도사\")\n",
                "an.sum(1,1)"
            ]
        },
        {
            "cell_type": "code",
            "execution_count": null,
            "metadata": {},
            "outputs": [],
            "source": [
                "lee = Service()\n",
                "lee.sum(1,1)\n"
            ]
        },
        {
            "cell_type": "code",
            "execution_count": null,
            "metadata": {},
            "outputs": [],
            "source": [
                "class Service:\n",
                "    secret = \"exhausted\"\n",
                "    def __init__(self, name):\n",
                "        self.name = name\n",
                "    def sum(self, a, b):\n",
                "        result = a + b\n",
                "        print(\"%s님, %s + %s = %s입니다.\" %(self.name, a, b, result))"
            ]
        },
        {
            "cell_type": "code",
            "execution_count": null,
            "metadata": {},
            "outputs": [],
            "source": [
                "an = Service(\"박달도사\")\n",
                "an.sum(1,1)"
            ]
        },
        {
            "cell_type": "code",
            "execution_count": null,
            "metadata": {},
            "outputs": [],
            "source": [
                "an = Service()"
            ]
        },
        {
            "cell_type": "code",
            "execution_count": null,
            "metadata": {},
            "outputs": [],
            "source": [
                "class FourCal:\n",
                "    pass\n",
                "\n",
                "a = FourCal()\n",
                "type(a)"
            ]
        },
        {
            "cell_type": "code",
            "execution_count": null,
            "metadata": {},
            "outputs": [],
            "source": [
                "class FourCal:\n",
                "    def setdata(self, first, second):\n",
                "        self.first = first\n",
                "        self.second = second\n",
                "\n",
                "a = FourCal()\n",
                "a.setdata(4,2)\n",
                "\n",
                "print(a.first)\n",
                "print(a.second)"
            ]
        },
        {
            "cell_type": "code",
            "execution_count": null,
            "metadata": {},
            "outputs": [],
            "source": [
                "class FourCal:\n",
                "    def setdata(self, first, second):\n",
                "        self.first = first\n",
                "        self.second = second\n",
                "    def sum(self):\n",
                "        result = self.first + self.second\n",
                "        return result\n",
                "\n",
                "a = FourCal()\n",
                "a.setdata(4,2)\n",
                "\n",
                "print(a.first)\n",
                "print(a.second)\n",
                "print(a.sum())"
            ]
        },
        {
            "cell_type": "code",
            "execution_count": null,
            "metadata": {},
            "outputs": [],
            "source": [
                "class FourCal:\n",
                "    def setdata(self, first, second):\n",
                "        self.first = first\n",
                "        self.second = second\n",
                "    def sum(self):\n",
                "        result = self.first + self.second\n",
                "        return result\n",
                "    def mul(self):\n",
                "        result = self.first * self.second\n",
                "        return result\n",
                "    def sub(self):\n",
                "        result = self.first - self.second\n",
                "        return result\n",
                "    def div(self):\n",
                "        result = self.first / self.second\n",
                "        return result\n",
                "\n",
                "a = FourCal()\n",
                "a.setdata(4,2)\n",
                "\n",
                "print(a.sum())\n",
                "print(a.mul())\n",
                "print(a.sub())\n",
                "print(a.div())"
            ]
        },
        {
            "cell_type": "markdown",
            "metadata": {},
            "source": [
                "# __init__ Method"
            ]
        },
        {
            "cell_type": "code",
            "execution_count": null,
            "metadata": {},
            "outputs": [],
            "source": [
                "class FourCal:\n",
                "    def __init__(self, first, second):\n",
                "        self.first = first\n",
                "        self.second = second\n",
                "    def sum(self):\n",
                "        result = self.first + self.second\n",
                "        return result\n",
                "    def mul(self):\n",
                "        result = self.first * self.second\n",
                "        return result\n",
                "    def sub(self):\n",
                "        result = self.first - self.second\n",
                "        return result\n",
                "    def div(self):\n",
                "        result = self.first / self.second\n",
                "        return result\n",
                "\n",
                "a = FourCal(8,2)\n",
                "\n",
                "print(a.sum())\n",
                "print(a.mul())\n",
                "print(a.sub())\n",
                "print(a.div())"
            ]
        }
    ],
    "metadata": {
        "kernelspec": {
            "display_name": "Python 3",
            "language": "python",
            "name": "python3"
        },
        "language_info": {
            "codemirror_mode": {
                "name": "ipython",
                "version": 3
            },
            "file_extension": ".py",
            "mimetype": "text/x-python",
            "name": "python",
            "nbconvert_exporter": "python",
            "pygments_lexer": "ipython3",
            "version": "3.9.6"
        }
    },
    "nbformat": 4,
    "nbformat_minor": 2
}
